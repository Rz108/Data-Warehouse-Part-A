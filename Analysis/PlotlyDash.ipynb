{
 "cells": [
  {
   "cell_type": "markdown",
   "metadata": {},
   "source": [
    "<a class=\"anchor\" id=\"3\"></a>\n",
    "## <font color='#71a1e3'>__Import Libraries__</font>\n"
   ]
  },
  {
   "cell_type": "code",
   "execution_count": 3,
   "metadata": {},
   "outputs": [
    {
     "name": "stdout",
     "output_type": "stream",
     "text": [
      "Collecting jupyter_dash\n",
      "  Downloading jupyter_dash-0.4.2-py3-none-any.whl (23 kB)\n",
      "Collecting dash (from jupyter_dash)\n",
      "  Downloading dash-2.14.2-py3-none-any.whl.metadata (11 kB)\n",
      "Requirement already satisfied: requests in c:\\users\\ruizh\\anaconda3\\envs\\gpu_env\\lib\\site-packages (from jupyter_dash) (2.31.0)\n",
      "Collecting flask (from jupyter_dash)\n",
      "  Using cached flask-3.0.0-py3-none-any.whl.metadata (3.6 kB)\n",
      "Collecting retrying (from jupyter_dash)\n",
      "  Downloading retrying-1.3.4-py3-none-any.whl (11 kB)\n",
      "Requirement already satisfied: ipython in c:\\users\\ruizh\\anaconda3\\envs\\gpu_env\\lib\\site-packages (from jupyter_dash) (8.12.2)\n",
      "Requirement already satisfied: ipykernel in c:\\users\\ruizh\\anaconda3\\envs\\gpu_env\\lib\\site-packages (from jupyter_dash) (6.25.0)\n",
      "Collecting ansi2html (from jupyter_dash)\n",
      "  Downloading ansi2html-1.8.0-py3-none-any.whl (16 kB)\n",
      "Requirement already satisfied: nest-asyncio in c:\\users\\ruizh\\anaconda3\\envs\\gpu_env\\lib\\site-packages (from jupyter_dash) (1.5.6)\n",
      "Requirement already satisfied: Werkzeug<3.1 in c:\\users\\ruizh\\anaconda3\\envs\\gpu_env\\lib\\site-packages (from dash->jupyter_dash) (3.0.1)\n",
      "Requirement already satisfied: plotly>=5.0.0 in c:\\users\\ruizh\\anaconda3\\envs\\gpu_env\\lib\\site-packages (from dash->jupyter_dash) (5.18.0)\n",
      "Collecting dash-html-components==2.0.0 (from dash->jupyter_dash)\n",
      "  Downloading dash_html_components-2.0.0-py3-none-any.whl (4.1 kB)\n",
      "Collecting dash-core-components==2.0.0 (from dash->jupyter_dash)\n",
      "  Downloading dash_core_components-2.0.0-py3-none-any.whl (3.8 kB)\n",
      "Collecting dash-table==5.0.0 (from dash->jupyter_dash)\n",
      "  Downloading dash_table-5.0.0-py3-none-any.whl (3.9 kB)\n",
      "Requirement already satisfied: typing-extensions>=4.1.1 in c:\\users\\ruizh\\anaconda3\\envs\\gpu_env\\lib\\site-packages (from dash->jupyter_dash) (4.7.1)\n",
      "Requirement already satisfied: setuptools in c:\\users\\ruizh\\anaconda3\\envs\\gpu_env\\lib\\site-packages (from dash->jupyter_dash) (68.0.0)\n",
      "Requirement already satisfied: importlib-metadata in c:\\users\\ruizh\\anaconda3\\envs\\gpu_env\\lib\\site-packages (from dash->jupyter_dash) (6.0.0)\n",
      "Requirement already satisfied: Jinja2>=3.1.2 in c:\\users\\ruizh\\anaconda3\\envs\\gpu_env\\lib\\site-packages (from flask->jupyter_dash) (3.1.2)\n",
      "Collecting itsdangerous>=2.1.2 (from flask->jupyter_dash)\n",
      "  Using cached itsdangerous-2.1.2-py3-none-any.whl (15 kB)\n",
      "Requirement already satisfied: click>=8.1.3 in c:\\users\\ruizh\\anaconda3\\envs\\gpu_env\\lib\\site-packages (from flask->jupyter_dash) (8.1.7)\n",
      "Collecting blinker>=1.6.2 (from flask->jupyter_dash)\n",
      "  Downloading blinker-1.7.0-py3-none-any.whl.metadata (1.9 kB)\n",
      "Requirement already satisfied: comm>=0.1.1 in c:\\users\\ruizh\\anaconda3\\envs\\gpu_env\\lib\\site-packages (from ipykernel->jupyter_dash) (0.1.4)\n",
      "Requirement already satisfied: debugpy>=1.6.5 in c:\\users\\ruizh\\anaconda3\\envs\\gpu_env\\lib\\site-packages (from ipykernel->jupyter_dash) (1.6.7)\n",
      "Requirement already satisfied: jupyter-client>=6.1.12 in c:\\users\\ruizh\\anaconda3\\envs\\gpu_env\\lib\\site-packages (from ipykernel->jupyter_dash) (7.4.9)\n",
      "Requirement already satisfied: jupyter-core!=5.0.*,>=4.12 in c:\\users\\ruizh\\anaconda3\\envs\\gpu_env\\lib\\site-packages (from ipykernel->jupyter_dash) (5.5.0)\n",
      "Requirement already satisfied: matplotlib-inline>=0.1 in c:\\users\\ruizh\\anaconda3\\envs\\gpu_env\\lib\\site-packages (from ipykernel->jupyter_dash) (0.1.6)\n",
      "Requirement already satisfied: packaging in c:\\users\\ruizh\\anaconda3\\envs\\gpu_env\\lib\\site-packages (from ipykernel->jupyter_dash) (23.1)\n",
      "Requirement already satisfied: psutil in c:\\users\\ruizh\\anaconda3\\envs\\gpu_env\\lib\\site-packages (from ipykernel->jupyter_dash) (5.9.0)\n",
      "Requirement already satisfied: pyzmq>=20 in c:\\users\\ruizh\\anaconda3\\envs\\gpu_env\\lib\\site-packages (from ipykernel->jupyter_dash) (23.2.0)\n",
      "Requirement already satisfied: tornado>=6.1 in c:\\users\\ruizh\\anaconda3\\envs\\gpu_env\\lib\\site-packages (from ipykernel->jupyter_dash) (6.3.3)\n",
      "Requirement already satisfied: traitlets>=5.4.0 in c:\\users\\ruizh\\anaconda3\\envs\\gpu_env\\lib\\site-packages (from ipykernel->jupyter_dash) (5.13.0)\n",
      "Requirement already satisfied: backcall in c:\\users\\ruizh\\anaconda3\\envs\\gpu_env\\lib\\site-packages (from ipython->jupyter_dash) (0.2.0)\n",
      "Requirement already satisfied: decorator in c:\\users\\ruizh\\anaconda3\\envs\\gpu_env\\lib\\site-packages (from ipython->jupyter_dash) (5.1.1)\n",
      "Requirement already satisfied: jedi>=0.16 in c:\\users\\ruizh\\anaconda3\\envs\\gpu_env\\lib\\site-packages (from ipython->jupyter_dash) (0.18.1)\n",
      "Requirement already satisfied: pickleshare in c:\\users\\ruizh\\anaconda3\\envs\\gpu_env\\lib\\site-packages (from ipython->jupyter_dash) (0.7.5)\n",
      "Requirement already satisfied: prompt-toolkit!=3.0.37,<3.1.0,>=3.0.30 in c:\\users\\ruizh\\anaconda3\\envs\\gpu_env\\lib\\site-packages (from ipython->jupyter_dash) (3.0.36)\n",
      "Requirement already satisfied: pygments>=2.4.0 in c:\\users\\ruizh\\anaconda3\\envs\\gpu_env\\lib\\site-packages (from ipython->jupyter_dash) (2.15.1)\n",
      "Requirement already satisfied: stack-data in c:\\users\\ruizh\\anaconda3\\envs\\gpu_env\\lib\\site-packages (from ipython->jupyter_dash) (0.2.0)\n",
      "Requirement already satisfied: colorama in c:\\users\\ruizh\\anaconda3\\envs\\gpu_env\\lib\\site-packages (from ipython->jupyter_dash) (0.4.6)\n",
      "Requirement already satisfied: charset-normalizer<4,>=2 in c:\\users\\ruizh\\anaconda3\\envs\\gpu_env\\lib\\site-packages (from requests->jupyter_dash) (3.3.2)\n",
      "Requirement already satisfied: idna<4,>=2.5 in c:\\users\\ruizh\\anaconda3\\envs\\gpu_env\\lib\\site-packages (from requests->jupyter_dash) (3.4)\n",
      "Requirement already satisfied: urllib3<3,>=1.21.1 in c:\\users\\ruizh\\anaconda3\\envs\\gpu_env\\lib\\site-packages (from requests->jupyter_dash) (2.0.7)\n",
      "Requirement already satisfied: certifi>=2017.4.17 in c:\\users\\ruizh\\anaconda3\\envs\\gpu_env\\lib\\site-packages (from requests->jupyter_dash) (2023.7.22)\n",
      "Requirement already satisfied: six>=1.7.0 in c:\\users\\ruizh\\anaconda3\\envs\\gpu_env\\lib\\site-packages (from retrying->jupyter_dash) (1.16.0)\n",
      "Requirement already satisfied: zipp>=0.5 in c:\\users\\ruizh\\anaconda3\\envs\\gpu_env\\lib\\site-packages (from importlib-metadata->dash->jupyter_dash) (3.11.0)\n",
      "Requirement already satisfied: parso<0.9.0,>=0.8.0 in c:\\users\\ruizh\\anaconda3\\envs\\gpu_env\\lib\\site-packages (from jedi>=0.16->ipython->jupyter_dash) (0.8.3)\n",
      "Requirement already satisfied: MarkupSafe>=2.0 in c:\\users\\ruizh\\anaconda3\\envs\\gpu_env\\lib\\site-packages (from Jinja2>=3.1.2->flask->jupyter_dash) (2.1.1)\n",
      "Requirement already satisfied: entrypoints in c:\\users\\ruizh\\anaconda3\\envs\\gpu_env\\lib\\site-packages (from jupyter-client>=6.1.12->ipykernel->jupyter_dash) (0.4)\n",
      "Requirement already satisfied: python-dateutil>=2.8.2 in c:\\users\\ruizh\\anaconda3\\envs\\gpu_env\\lib\\site-packages (from jupyter-client>=6.1.12->ipykernel->jupyter_dash) (2.8.2)\n",
      "Requirement already satisfied: platformdirs>=2.5 in c:\\users\\ruizh\\anaconda3\\envs\\gpu_env\\lib\\site-packages (from jupyter-core!=5.0.*,>=4.12->ipykernel->jupyter_dash) (3.10.0)\n",
      "Requirement already satisfied: pywin32>=300 in c:\\users\\ruizh\\anaconda3\\envs\\gpu_env\\lib\\site-packages (from jupyter-core!=5.0.*,>=4.12->ipykernel->jupyter_dash) (305.1)\n",
      "Requirement already satisfied: tenacity>=6.2.0 in c:\\users\\ruizh\\anaconda3\\envs\\gpu_env\\lib\\site-packages (from plotly>=5.0.0->dash->jupyter_dash) (8.2.3)\n",
      "Requirement already satisfied: wcwidth in c:\\users\\ruizh\\anaconda3\\envs\\gpu_env\\lib\\site-packages (from prompt-toolkit!=3.0.37,<3.1.0,>=3.0.30->ipython->jupyter_dash) (0.2.5)\n",
      "Requirement already satisfied: executing in c:\\users\\ruizh\\anaconda3\\envs\\gpu_env\\lib\\site-packages (from stack-data->ipython->jupyter_dash) (0.8.3)\n",
      "Requirement already satisfied: asttokens in c:\\users\\ruizh\\anaconda3\\envs\\gpu_env\\lib\\site-packages (from stack-data->ipython->jupyter_dash) (2.0.5)\n",
      "Requirement already satisfied: pure-eval in c:\\users\\ruizh\\anaconda3\\envs\\gpu_env\\lib\\site-packages (from stack-data->ipython->jupyter_dash) (0.2.2)\n",
      "Downloading dash-2.14.2-py3-none-any.whl (10.2 MB)\n",
      "   ---------------------------------------- 0.0/10.2 MB ? eta -:--:--\n",
      "   - -------------------------------------- 0.3/10.2 MB 5.2 MB/s eta 0:00:02\n",
      "   -- ------------------------------------- 0.7/10.2 MB 7.5 MB/s eta 0:00:02\n",
      "   --- ------------------------------------ 1.0/10.2 MB 7.1 MB/s eta 0:00:02\n",
      "   ----- ---------------------------------- 1.4/10.2 MB 7.6 MB/s eta 0:00:02\n",
      "   ------- -------------------------------- 1.8/10.2 MB 7.7 MB/s eta 0:00:02\n",
      "   -------- ------------------------------- 2.2/10.2 MB 7.7 MB/s eta 0:00:02\n",
      "   ---------- ----------------------------- 2.6/10.2 MB 8.3 MB/s eta 0:00:01\n",
      "   ------------ --------------------------- 3.2/10.2 MB 8.5 MB/s eta 0:00:01\n",
      "   -------------- ------------------------- 3.7/10.2 MB 8.6 MB/s eta 0:00:01\n",
      "   --------------- ------------------------ 4.1/10.2 MB 8.6 MB/s eta 0:00:01\n",
      "   ----------------- ---------------------- 4.5/10.2 MB 9.1 MB/s eta 0:00:01\n",
      "   ------------------- -------------------- 5.0/10.2 MB 8.8 MB/s eta 0:00:01\n",
      "   --------------------- ------------------ 5.4/10.2 MB 9.1 MB/s eta 0:00:01\n",
      "   ---------------------- ----------------- 5.8/10.2 MB 8.8 MB/s eta 0:00:01\n",
      "   ------------------------ --------------- 6.3/10.2 MB 9.1 MB/s eta 0:00:01\n",
      "   ------------------------- -------------- 6.6/10.2 MB 8.8 MB/s eta 0:00:01\n",
      "   --------------------------- ------------ 7.1/10.2 MB 8.9 MB/s eta 0:00:01\n",
      "   ----------------------------- ---------- 7.6/10.2 MB 8.8 MB/s eta 0:00:01\n",
      "   ------------------------------- -------- 8.0/10.2 MB 8.8 MB/s eta 0:00:01\n",
      "   -------------------------------- ------- 8.3/10.2 MB 8.7 MB/s eta 0:00:01\n",
      "   ---------------------------------- ----- 8.8/10.2 MB 8.8 MB/s eta 0:00:01\n",
      "   ----------------------------------- ---- 9.0/10.2 MB 8.7 MB/s eta 0:00:01\n",
      "   ------------------------------------- -- 9.5/10.2 MB 8.6 MB/s eta 0:00:01\n",
      "   -------------------------------------- - 9.8/10.2 MB 8.6 MB/s eta 0:00:01\n",
      "   ---------------------------------------  10.2/10.2 MB 8.6 MB/s eta 0:00:01\n",
      "   ---------------------------------------- 10.2/10.2 MB 8.5 MB/s eta 0:00:00\n",
      "Using cached flask-3.0.0-py3-none-any.whl (99 kB)\n",
      "Downloading blinker-1.7.0-py3-none-any.whl (13 kB)\n",
      "Installing collected packages: dash-table, dash-html-components, dash-core-components, retrying, itsdangerous, blinker, ansi2html, flask, dash, jupyter_dash\n",
      "Successfully installed ansi2html-1.8.0 blinker-1.7.0 dash-2.14.2 dash-core-components-2.0.0 dash-html-components-2.0.0 dash-table-5.0.0 flask-3.0.0 itsdangerous-2.1.2 jupyter_dash-0.4.2 retrying-1.3.4\n"
     ]
    },
    {
     "name": "stderr",
     "output_type": "stream",
     "text": [
      "WARNING: Ignoring invalid distribution -atplotlib (c:\\users\\ruizh\\anaconda3\\envs\\gpu_env\\lib\\site-packages)\n",
      "WARNING: Ignoring invalid distribution -ensorflow (c:\\users\\ruizh\\anaconda3\\envs\\gpu_env\\lib\\site-packages)\n",
      "WARNING: Ignoring invalid distribution -atplotlib (c:\\users\\ruizh\\anaconda3\\envs\\gpu_env\\lib\\site-packages)\n",
      "WARNING: Ignoring invalid distribution -ensorflow (c:\\users\\ruizh\\anaconda3\\envs\\gpu_env\\lib\\site-packages)\n"
     ]
    }
   ],
   "source": [
    "!pip install jupyter_dash"
   ]
  },
  {
   "cell_type": "code",
   "execution_count": 19,
   "metadata": {},
   "outputs": [],
   "source": [
    "import numpy as np\n",
    "import pandas as pd\n",
    "import plotly.graph_objects as go\n",
    "import plotly.express as px\n",
    "import matplotlib.pyplot as plt\n",
    "import matplotlib.dates as mdates\n",
    "import seaborn as sns\n",
    "import plotly.express as px\n",
    "import plotly.graph_objs as go\n",
    "from plotly.subplots import make_subplots\n",
    "import warnings\n",
    "import pandas as pd\n",
    "import numpy as np\n",
    "from math import atan2, degrees\n",
    "from itertools import product\n",
    "from termcolor import colored\n",
    "import itertools\n",
    "from tqdm import tqdm\n",
    "plt.style.use(\"ggplot\")\n",
    "warnings.filterwarnings('ignore')\n",
    "from collections import defaultdict\n",
    "from datetime import datetime\n",
    "from sklearn.preprocessing import KBinsDiscretizer\n",
    "from sklearn.experimental import enable_iterative_imputer\n",
    "from sklearn.impute import IterativeImputer\n",
    "from jupyter_dash import JupyterDash\n",
    "from dash import html, dcc, Input, Output\n",
    "import dash\n",
    "import plotly.express as px\n",
    "import pandas as pd\n",
    "random = np.random.RandomState(42)"
   ]
  },
  {
   "cell_type": "markdown",
   "metadata": {},
   "source": [
    "<a class=\"anchor\" id=\"3\"></a>\n",
    "## <font color='#71a1e3'>__Plotly Dash__</font>\n"
   ]
  },
  {
   "cell_type": "code",
   "execution_count": 24,
   "metadata": {},
   "outputs": [
    {
     "data": {
      "text/html": [
       "\n",
       "        <iframe\n",
       "            width=\"100%\"\n",
       "            height=\"650\"\n",
       "            src=\"http://127.0.0.1:8050/\"\n",
       "            frameborder=\"0\"\n",
       "            allowfullscreen\n",
       "            \n",
       "        ></iframe>\n",
       "        "
      ],
      "text/plain": [
       "<IPython.lib.display.IFrame at 0x2cf4c4b10d0>"
      ]
     },
     "metadata": {},
     "output_type": "display_data"
    }
   ],
   "source": [
    "app=dash.Dash(__name__)\n",
    "df = pd.read_csv('final_drivers.csv')\n",
    "numeric_columns = df.select_dtypes(include=['float64', 'int64']).columns\n",
    "selectCol = numeric_columns.drop(['Unnamed: 0', 'driver_id'])  \n",
    "\n",
    "app.layout = html.Div([\n",
    "    dcc.Dropdown(\n",
    "        id='column-dropdown',\n",
    "        options=[{'label': col, 'value': col} for col in selectCol],\n",
    "        value=selectCol[0]  \n",
    "    ),\n",
    "    dcc.Graph(id='numeric-histogram'),\n",
    "])\n",
    "\n",
    "@app.callback(\n",
    "    Output('numeric-histogram', 'figure'),\n",
    "    Input('column-dropdown', 'value')\n",
    ")\n",
    "def UpdateNum(selected_column):\n",
    "    fig = px.histogram(df, x=selected_column, title=f'Distribution of {selected_column}')\n",
    "    fig.update_layout(\n",
    "        plot_bgcolor='#93bcf5', \n",
    "        paper_bgcolor='#93bcf5',  \n",
    "        bargap=0.2  \n",
    "    )\n",
    "    return fig\n",
    "\n",
    "\n",
    "app.run_server(debug=False)"
   ]
  }
 ],
 "metadata": {
  "kernelspec": {
   "display_name": "gpu_env",
   "language": "python",
   "name": "python3"
  },
  "language_info": {
   "codemirror_mode": {
    "name": "ipython",
    "version": 3
   },
   "file_extension": ".py",
   "mimetype": "text/x-python",
   "name": "python",
   "nbconvert_exporter": "python",
   "pygments_lexer": "ipython3",
   "version": "3.8.18"
  }
 },
 "nbformat": 4,
 "nbformat_minor": 2
}
